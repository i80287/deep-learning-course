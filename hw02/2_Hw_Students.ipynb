{
  "cells": [
    {
      "cell_type": "code",
      "execution_count": 1,
      "metadata": {
        "id": "tsZpFIaRfROD"
      },
      "outputs": [],
      "source": [
        "import torch\n",
        "import torch.nn as nn\n",
        "import torchvision.models\n",
        "from torch.utils.data import Dataset, DataLoader\n",
        "import torch.optim as optim\n",
        "import torch.nn.functional as F\n",
        "\n",
        "import albumentations as A\n",
        "from albumentations.pytorch import ToTensorV2\n",
        "\n",
        "from tqdm import tqdm\n",
        "from PIL import Image\n",
        "from PIL.Image import open as open_image\n",
        "import cv2\n",
        "import matplotlib.pyplot as plt\n",
        "import numpy as np\n",
        "\n",
        "import os\n",
        "from os.path import join as path_join\n",
        "\n",
        "from time import time"
      ]
    },
    {
      "cell_type": "markdown",
      "metadata": {
        "id": "U9HlqnlYoUJM"
      },
      "source": [
        "### Get the data"
      ]
    },
    {
      "cell_type": "code",
      "execution_count": 2,
      "metadata": {
        "id": "AYTvLpTFfR9L"
      },
      "outputs": [],
      "source": [
        "if not os.path.exists(\"data.zip\"):\n",
        "    import gdown\n",
        "    url = 'https://drive.google.com/uc?id=10f1H2T-5W-BiqabHHtlZ4ASs19TZmg8R'\n",
        "    output = 'data.zip'\n",
        "    gdown.download(url, output, quiet=False)\n",
        "    del gdown\n",
        "    del url\n",
        "    del output\n",
        "    !unzip data.zip"
      ]
    },
    {
      "cell_type": "code",
      "execution_count": 3,
      "metadata": {
        "id": "0nWcQqYrmWD1"
      },
      "outputs": [],
      "source": [
        "def set_random_seed(seed: int):\n",
        "    torch.backends.cudnn.deterministic = True\n",
        "    torch.manual_seed(seed)\n",
        "    torch.cuda.manual_seed(seed)\n",
        "    np.random.seed(seed)\n",
        "    if \"random\" in globals():\n",
        "        random.seed(seed)\n",
        "\n",
        "set_random_seed(1)"
      ]
    },
    {
      "cell_type": "markdown",
      "metadata": {
        "id": "w1g03B9mtZeb"
      },
      "source": [
        "### Utilities (0.5 point)\n",
        "\n",
        "Complete dataset to load prepared images and masks. Don't forget to use augmentations.\n",
        "\n",
        "Some of the images are 1 channels, so use `gray2rgb`."
      ]
    },
    {
      "cell_type": "code",
      "execution_count": 4,
      "metadata": {
        "id": "49VaraPnvJTy"
      },
      "outputs": [],
      "source": [
        "# for class_name in os.listdir(\"data/train/images\"):\n",
        "#     class_images_dir: str = path_join(\"data/train/images\", class_name)\n",
        "#     class_gt_masks_dir: str = path_join(\"data/train/gt\", class_name)\n",
        "#     assert os.path.exists(class_gt_masks_dir), f\"no dir with ground truth masks {class_gt_masks_dir} for the class {class_name}\"\n",
        "#     for fname in os.listdir(class_images_dir):\n",
        "#         gt_mask_file_path = path_join(class_gt_masks_dir, BirdsDataset._gt_mask_filename_from_img_filename(fname))\n",
        "#         assert os.path.exists(gt_mask_file_path), \\\n",
        "#             f\"no ground truth mask {gt_mask_file_path} for the file {fname} with class {class_name}\"\n",
        "\n",
        "#         mask = np.array(open_image(gt_mask_file_path))\n",
        "#         if mask.ndim != 2:\n",
        "#             assert len(mask.shape) == 3 and mask.shape[-1] == 2, mask.shape\n",
        "#             print(gt_mask_file_path)\n",
        "#             print(path_join(class_images_dir, fname))\n",
        "#             # print(mask)\n",
        "#             # display(Image.fromarray(mask[:,:,0]))\n",
        "#             # display(Image.fromarray(mask[:,:,1]))\n",
        "#             assert mask[:,:,1].ndim == 2\n",
        "#             assert 255 in np.unique(mask[:,:,1])\n",
        "#             # print(mask)\n",
        "#             # assert False\n",
        "\n",
        "#         # not_gt_mask = mask != WHITE_PIXEL_VALUE\n",
        "#         # if not not np.all(not_gt_mask):\n",
        "#         #     # print(f\"{np.unique(mask)}\\n{mask.reshape(-1)}\")\n",
        "#         #     pass\n",
        "#         # else:\n",
        "#         #     pass\n",
        "#         #     # print(gt_mask_file_path)\n",
        "#         # mask[not_gt_mask] = 0.0\n",
        "#         # mask.astype(np.float32)"
      ]
    },
    {
      "cell_type": "code",
      "execution_count": 5,
      "metadata": {
        "id": "YT2QUTqFooxJ"
      },
      "outputs": [],
      "source": [
        "IMG_HEIGHT = 224\n",
        "IMG_WIDTH = 224\n",
        "CHANNELS_COUNT = 3\n",
        "PIXEL_MAX_VALUE = 255\n",
        "WHITE_PIXEL_VALUE = PIXEL_MAX_VALUE\n",
        "MASK_PIXEL_VALUE = WHITE_PIXEL_VALUE\n",
        "\n",
        "def gray2rgb(img: np.ndarray) -> np.ndarray:\n",
        "    match img.shape:\n",
        "        case (_, _):\n",
        "            return np.dstack([img, img, img])\n",
        "        case (_, _, 3):\n",
        "            return img\n",
        "        case _:\n",
        "            raise ValueError(f\"Invalid img.shape: {img.shape}\")\n",
        "\n",
        "def get_iou(gt, pred):\n",
        "    pred = pred > 0.5\n",
        "    un = (gt | pred).sum()\n",
        "    assert un > 0 or (gt & pred).sum() == 0\n",
        "    return (gt & pred).sum() / un if un else 0\n",
        "\n",
        "def imagenet_mean() -> tuple[float, float, float]:\n",
        "    return (0.485, 0.456, 0.406)\n",
        "\n",
        "def imagenet_std() -> tuple[float, float, float]:\n",
        "    return (0.229, 0.224, 0.225)\n",
        "\n",
        "class BirdsDataset(Dataset):\n",
        "    def __init__(self, folder, is_train: None | bool = None) -> None:\n",
        "        assert is_train is None or isinstance(is_train, bool)\n",
        "\n",
        "        images_folder: str = os.path.join(folder, 'images')\n",
        "        gt_folder: str = os.path.join(folder, 'gt')\n",
        "\n",
        "        calc_manually = False\n",
        "        if calc_manually:\n",
        "            # These values are not the real mean and std, but calculating\n",
        "            #  them would require iterating over images twice\n",
        "            approx_mean = np.zeros(shape=(CHANNELS_COUNT,))\n",
        "            approx_std = np.zeros(shape=(CHANNELS_COUNT,))\n",
        "\n",
        "        img_index_to_class_name: list[str] = []\n",
        "        img_index_to_file_name: list[str] = []\n",
        "        for class_name in os.listdir(images_folder):\n",
        "            class_images_dir: str = path_join(images_folder, class_name)\n",
        "            class_gt_masks_dir: str = path_join(gt_folder, class_name)\n",
        "            assert os.path.exists(class_gt_masks_dir), f\"no dir with ground truth masks {class_gt_masks_dir} for the class {class_name}\"\n",
        "            for fname in os.listdir(class_images_dir):\n",
        "                gt_mask_file_path = path_join(class_gt_masks_dir, BirdsDataset._gt_mask_filename_from_img_filename(fname))\n",
        "                assert os.path.exists(gt_mask_file_path), \\\n",
        "                    f\"no ground truth mask {gt_mask_file_path} for the file {fname} with class {class_name}\"\n",
        "\n",
        "                if calc_manually:\n",
        "                    img_pixels: np.ndarray = gray2rgb(np.asarray(open_image(path_join(class_images_dir, fname)))).astype(np.float32)\n",
        "                    assert len(img_pixels.shape) == 3 and img_pixels.shape[2] == CHANNELS_COUNT\n",
        "                    img_pixels /= PIXEL_MAX_VALUE\n",
        "                    approx_mean += img_pixels.mean(axis=(0, 1))\n",
        "                    approx_std += img_pixels.std(axis=(0, 1))\n",
        "\n",
        "                img_index_to_file_name.append(fname)\n",
        "\n",
        "                # Note: only 1 instance of bytes sequence corresponding to the `class_name`\n",
        "                #  exists in memory due to the reference semantic of the Python language\n",
        "                img_index_to_class_name.append(class_name)\n",
        "\n",
        "        if calc_manually:\n",
        "            total_images = len(img_index_to_class_name)\n",
        "            assert total_images == len(img_index_to_file_name) > 0\n",
        "            approx_mean /= total_images\n",
        "            approx_std /= total_images\n",
        "\n",
        "            assert approx_mean.ndim == 1 and len(approx_mean) == CHANNELS_COUNT \\\n",
        "                and np.all((0 < approx_mean) & (approx_mean < 1))\n",
        "            assert approx_std.ndim == 1 and len(approx_std) == CHANNELS_COUNT \\\n",
        "                and np.all((0 < approx_std) & (approx_std < 1))\n",
        "            print(f\"approx_mean = {approx_mean}\")\n",
        "            print(f\"approx_std = {approx_std}\")\n",
        "\n",
        "        if is_train is None:\n",
        "            is_train = \"train\" in folder\n",
        "        self.transform = BirdsDataset.make_data_transformer(is_train=is_train)\n",
        "        self._img_index_to_class_name = img_index_to_class_name\n",
        "        self._img_index_to_file_name = img_index_to_file_name\n",
        "        self._images_folder = images_folder\n",
        "        self._gt_folder = gt_folder\n",
        "\n",
        "    @staticmethod\n",
        "    def preprocess_image(img: np.ndarray) -> np.ndarray:\n",
        "        # assert np.issubdtype(img.dtype, np.integer), f\"img.dtype = {img.dtype}\"\n",
        "        # assert np.all(img <= MASK_PIXEL_VALUE)\n",
        "        # assert np.all(0 <= img)\n",
        "        return gray2rgb(img)\n",
        "\n",
        "    @staticmethod\n",
        "    def preprocess_mask(mask: np.ndarray) -> np.ndarray:\n",
        "        if mask.ndim != 2:\n",
        "            mask = mask[:,:,0]\n",
        "        # assert np.issubdtype(mask.dtype, np.integer), f\"img.dtype = {mask.dtype}\"\n",
        "        mask = (mask == MASK_PIXEL_VALUE).astype(np.uint8)\n",
        "        # assert np.all((mask == 0) ^ (mask == 1))\n",
        "        return mask\n",
        "\n",
        "    def __getitem__(self, index: int) -> tuple[torch.Tensor, torch.Tensor]:\n",
        "        img, gt_mask = self._read_img_and_gt_mask_by_index(index)\n",
        "        match self.transform(image=BirdsDataset.preprocess_image(img), mask=BirdsDataset.preprocess_mask(gt_mask)):\n",
        "            case {\"image\": t_img, \"mask\": t_msk}:\n",
        "                return t_img, t_msk.long()\n",
        "        assert False\n",
        "\n",
        "    def __len__(self) -> int:\n",
        "        return len(self._img_index_to_file_name)\n",
        "\n",
        "    @staticmethod\n",
        "    def make_data_transformer(is_train: bool = False, mean=imagenet_mean(), std=imagenet_std()):\n",
        "        assert len(mean) == len(std) == CHANNELS_COUNT\n",
        "        actions: list[A.BasicTransform] = [\n",
        "            A.Normalize(mean=mean, std=std, max_pixel_value=PIXEL_MAX_VALUE),\n",
        "        ]\n",
        "        if is_train:\n",
        "            actions.extend([\n",
        "                A.RandomResizedCrop(size=(IMG_HEIGHT, IMG_WIDTH)),\n",
        "                A.HorizontalFlip(p=0.3),\n",
        "                A.RandomBrightnessContrast(brightness_limit=(-0.1, 0.1), contrast_limit=(-0.1, 0.1), p=0.3),\n",
        "            ])\n",
        "        else:\n",
        "            actions.extend([\n",
        "                A.Resize(height=IMG_HEIGHT, width=IMG_WIDTH),\n",
        "            ])\n",
        "        actions.extend([\n",
        "            ToTensorV2(),\n",
        "        ])\n",
        "        return A.Compose(actions)\n",
        "\n",
        "    def _read_img_and_gt_mask_by_index(self, i: int) -> tuple[np.ndarray, np.ndarray]:\n",
        "        cnm = self._img_index_to_class_name[i]\n",
        "        fnm = self._img_index_to_file_name[i]\n",
        "        return (\n",
        "            np.asarray(open_image(path_join(self._images_folder, cnm, fnm))),\n",
        "            np.asarray(open_image(path_join(self._gt_folder, cnm, self._gt_mask_filename_from_img_filename(fnm)))),\n",
        "        )\n",
        "\n",
        "    @staticmethod\n",
        "    def _gt_mask_filename_from_img_filename(img_fname: str) -> str:\n",
        "        return f\"{img_fname.removesuffix('jpg')}png\"\n"
      ]
    },
    {
      "cell_type": "code",
      "execution_count": 6,
      "metadata": {
        "id": "eUUYHGZphyU7"
      },
      "outputs": [],
      "source": [
        "# bd = BirdsDataset(os.path.join(\"data\", \"train\"))\n",
        "# assert len(bd) > 0\n",
        "# x = []\n",
        "# for i in range(len(bd)):\n",
        "#   x.extend(np.unique(bd[i][1]).tolist())\n",
        "# assert np.all(np.unique(x) == np.array([0., 1.]))\n",
        "# del bd"
      ]
    },
    {
      "cell_type": "markdown",
      "metadata": {
        "id": "dss-ZnpTuI1V"
      },
      "source": [
        "### Architecture (1 point)\n",
        "Your task for today is to build your own Unet to solve the segmentation problem.\n",
        "\n",
        "As an encoder, you can use pre-trained on IMAGENET models(or parts) from torchvision. The decoder must be trained from scratch.\n",
        "It is forbidden to use data not from the `data` folder.\n",
        "\n",
        "I advise you to experiment with the number of blocks so as not to overfit on the training sample and get good quality on validation."
      ]
    },
    {
      "cell_type": "code",
      "execution_count": 7,
      "metadata": {
        "id": "ZZOzNYbWIwa7"
      },
      "outputs": [],
      "source": [
        "# B = 2\n",
        "# CR = 256\n",
        "# CX = 512\n",
        "# N = 102\n",
        "# r = torch.randn(size=(B, CR, N, N))\n",
        "# x = torch.randn(size=(B, CX, N, N))\n",
        "# assert torch.cat((r, x), dim=1).shape == torch.Size((B, CR + CX, N, N))\n",
        "# nn.Conv2d(in_channels=CHANNELS_COUNT, out_channels=256, kernel_size=3, stride=1, padding=1)(torch.randn((1, CHANNELS_COUNT, IMG_HEIGHT, IMG_WIDTH))).shape\n",
        "# nn.MaxPool2d(kernel_size=2)(torch.randn((1, 256, IMG_HEIGHT, IMG_WIDTH))).shape\n",
        "# nn.MaxPool2d(kernel_size=3, stride=2, padding=1)(torch.randn((1, 256, IMG_HEIGHT, IMG_WIDTH))).shape\n",
        "# from torchvision import models\n",
        "# from torchvision.models.segmentation.deeplabv3 import DeepLabV3\n",
        "# from torchvision.models.segmentation.fcn import FCN\n",
        "# m: DeepLabV3 = models.segmentation.deeplabv3_mobilenet_v3_large()\n",
        "# m: torchvision.models.resnet.ResNet = models.resnet152(weights=models.ResNet152_Weights.DEFAULT)\n",
        "\n",
        "# from torchvision import models\n",
        "# # m: torchvision.models.resnet.ResNet = models.resnet152(weights=models.ResNet152_Weights.DEFAULT)\n",
        "# m = models.segmentation.fcn_resnet50(weights_backbone=models.ResNet50_Weights.IMAGENET1K_V1).eval().backbone\n",
        "# [s for s in dir(m) if not s.startswith('_') and (\"layer\" in s or \"conv\" in s or \"relu\" in s or \"sampl\" in s or \"pool\" in s)]\n",
        "# B = 2\n",
        "# N = 32\n",
        "# M = 16\n",
        "# assert m.conv1(torch.zeros((B, CHANNELS_COUNT, IMG_HEIGHT, IMG_WIDTH))).shape == torch.Size((B, 64, IMG_HEIGHT // 2, IMG_WIDTH // 2))\n",
        "# assert m.bn1(torch.zeros((B, 64, IMG_HEIGHT // 2, IMG_WIDTH // 2))).shape == torch.Size((B, 64, IMG_HEIGHT // 2, IMG_WIDTH // 2))\n",
        "# assert m.relu(torch.zeros((B, 64, IMG_HEIGHT // 2, IMG_WIDTH // 2))).shape == torch.Size((B, 64, IMG_HEIGHT // 2, IMG_WIDTH // 2))\n",
        "# assert m.maxpool(torch.zeros((B, 64, IMG_HEIGHT // 2, IMG_WIDTH // 2))).shape == torch.Size((B, 64, IMG_HEIGHT // 4, IMG_WIDTH // 4))\n",
        "# assert m.layer1(torch.zeros((B, 64, IMG_HEIGHT // 4, IMG_WIDTH // 4))).shape == torch.Size((B, 256, IMG_HEIGHT // 4, IMG_WIDTH // 4))\n",
        "# assert m.layer2(torch.zeros((B, 256, IMG_HEIGHT // 4, IMG_WIDTH // 4))).shape == torch.Size((B, 512, IMG_HEIGHT // 8, IMG_WIDTH // 8))\n",
        "# # assert m.layer3(torch.zeros((B, 512, IMG_HEIGHT // 8, IMG_WIDTH // 8))).shape == torch.Size((B, 1024, IMG_HEIGHT // 16, IMG_WIDTH // 16))\n",
        "# assert m.layer3(torch.zeros((B, 512, IMG_HEIGHT // 8, IMG_WIDTH // 8))).shape == torch.Size((B, 1024, IMG_HEIGHT // 8, IMG_WIDTH // 8))"
      ]
    },
    {
      "cell_type": "code",
      "execution_count": 8,
      "metadata": {
        "id": "_Elr1Uw3uITD"
      },
      "outputs": [],
      "source": [
        "from torchvision import models\n",
        "\n",
        "class DecoderBlock(nn.Module):\n",
        "    def __init__(self, in_channels, mid_channels, out_channels):\n",
        "        super().__init__()\n",
        "        # self.upconv = nn.ConvTranspose2d(in_channels=in_channels, out_channels=out_channels, kernel_size=4, stride=2, padding=1)\n",
        "        self.upsample = nn.UpsamplingNearest2d(scale_factor=2)\n",
        "        self.conv1 = nn.Conv2d(in_channels=in_channels, out_channels=mid_channels, kernel_size=3, padding=1)\n",
        "        self.relu1 = nn.ReLU()\n",
        "        self.conv2 = nn.Conv2d(in_channels=mid_channels, out_channels=out_channels, kernel_size=3, padding=1)\n",
        "        self.relu2 = nn.ReLU()\n",
        "\n",
        "    def forward_with_resid(self, resid: torch.Tensor, x: torch.Tensor) -> torch.Tensor:\n",
        "        return self.forward(torch.cat((resid, self.upsample(x)), dim=1))\n",
        "\n",
        "    def forward(self, x: torch.Tensor) -> torch.Tensor:\n",
        "        return self.relu2(self.conv2(self.relu1(self.conv1(x))))\n",
        "\n",
        "class Unet(nn.Module):\n",
        "    def __init__(self):\n",
        "        super().__init__()\n",
        "\n",
        "        # pretrained_model_to_steal_layers_from\n",
        "        enc_model: torchvision.models.resnet.ResNet = models.resnet152(weights=models.ResNet152_Weights.DEFAULT)\n",
        "\n",
        "        B = 2\n",
        "        assert enc_model.conv1(torch.zeros((B, CHANNELS_COUNT, IMG_HEIGHT, IMG_WIDTH))).shape == torch.Size((B, 64, IMG_HEIGHT // 2, IMG_WIDTH // 2))\n",
        "        assert enc_model.bn1(torch.zeros((B, 64, IMG_HEIGHT // 2, IMG_WIDTH // 2))).shape == torch.Size((B, 64, IMG_HEIGHT // 2, IMG_WIDTH // 2))\n",
        "        assert enc_model.relu(torch.zeros((B, 64, IMG_HEIGHT // 2, IMG_WIDTH // 2))).shape == torch.Size((B, 64, IMG_HEIGHT // 2, IMG_WIDTH // 2))\n",
        "\n",
        "        assert enc_model.maxpool(torch.zeros((B, 64, IMG_HEIGHT // 2, IMG_WIDTH // 2))).shape == torch.Size((B, 64, IMG_HEIGHT // 4, IMG_WIDTH // 4))\n",
        "        assert enc_model.layer1(torch.zeros((B, 64, IMG_HEIGHT // 4, IMG_WIDTH // 4))).shape == torch.Size((B, 256, IMG_HEIGHT // 4, IMG_WIDTH // 4))\n",
        "\n",
        "        assert enc_model.layer2(torch.zeros((B, 256, IMG_HEIGHT // 4, IMG_WIDTH // 4))).shape == torch.Size((B, 512, IMG_HEIGHT // 8, IMG_WIDTH // 8))\n",
        "\n",
        "        assert enc_model.layer3(torch.zeros((B, 512, IMG_HEIGHT // 8, IMG_WIDTH // 8))).shape == torch.Size((B, 1024, IMG_HEIGHT // 16, IMG_WIDTH // 16))\n",
        "\n",
        "        self.inp = nn.Sequential(enc_model.conv1, enc_model.bn1, enc_model.relu)\n",
        "\n",
        "        # encoder blocks\n",
        "        self.encoder1 = nn.Sequential(enc_model.maxpool, enc_model.layer1)\n",
        "        self.encoder2= enc_model.layer2\n",
        "        self.encoder3= enc_model.layer3\n",
        "\n",
        "        # decoder blocks\n",
        "        self.decoder1 = DecoderBlock(in_channels=512 + 1024, mid_channels=1024, out_channels=512)\n",
        "        self.decoder2 = DecoderBlock(in_channels=256 + 512, mid_channels=512, out_channels=256)\n",
        "        self.decoder3 = DecoderBlock(in_channels=64 + 256, mid_channels=128, out_channels=64)\n",
        "\n",
        "        self.out = nn.Sequential(\n",
        "            nn.UpsamplingNearest2d(scale_factor=2),\n",
        "            nn.Conv2d(in_channels=64, out_channels=2, kernel_size=1),\n",
        "        )\n",
        "\n",
        "    def forward(self, x: torch.Tensor):\n",
        "        r1 = self.inp(x)\n",
        "        r2 = self.encoder1(r1)\n",
        "        r3 = self.encoder2(r2)\n",
        "        x = self.encoder3(r3)\n",
        "        x = self.decoder1.forward_with_resid(r3, x)\n",
        "        x = self.decoder2.forward_with_resid(r2, x)\n",
        "        x = self.decoder3.forward_with_resid(r1, x)\n",
        "        return self.out(x)\n",
        "\n",
        "    def mutable_parameters(self, recurse=True):\n",
        "        return self.parameters(recurse)\n"
      ]
    },
    {
      "cell_type": "code",
      "execution_count": 9,
      "metadata": {
        "id": "j68o-nLDKOdM"
      },
      "outputs": [],
      "source": [
        "# assert Unet()(torch.zeros(1, CHANNELS_COUNT, IMG_HEIGHT, IMG_WIDTH)).shape == torch.Size((1, 2, IMG_HEIGHT, IMG_WIDTH))"
      ]
    },
    {
      "cell_type": "markdown",
      "metadata": {
        "id": "7Sq4WwZsuMeD"
      },
      "source": [
        "### Train script (0.5 point)\n",
        "\n",
        "Complete the train and predict scripts."
      ]
    },
    {
      "cell_type": "code",
      "execution_count": 10,
      "metadata": {
        "id": "I-kPV5I5AM0-"
      },
      "outputs": [],
      "source": [
        "# pred = torch.tensor([\n",
        "#     [\n",
        "#         [\n",
        "#             [0, 0.5, 0.5],\n",
        "#             [0, 0.5, 0.5],\n",
        "#             [0.5, 0.5, 0.5],\n",
        "#         ],\n",
        "#         [\n",
        "#             [10, 0.5, 0.5],\n",
        "#             [10, 0.5, 0.5],\n",
        "#             [0.5, 0.5, 0.5],\n",
        "#         ],\n",
        "#     ],\n",
        "# ])\n",
        "# target = torch.tensor([\n",
        "#     [\n",
        "#         [1, 0, 0],\n",
        "#         [1, 0, 0],\n",
        "#         [0, 0, 1],\n",
        "#     ],\n",
        "# ])\n",
        "# nn.CrossEntropyLoss()(pred, target)"
      ]
    },
    {
      "cell_type": "code",
      "execution_count": 11,
      "metadata": {
        "id": "bIeRFCzRdK7m"
      },
      "outputs": [],
      "source": [
        "# get_iou(\n",
        "#     gt=train_dataset[0][1].unsqueeze(0).to(DEVICE) == 1,\n",
        "#     pred=model(train_dataset[0][0].unsqueeze(0).to(DEVICE)).detach().argmax(1) == 1\n",
        "# )"
      ]
    },
    {
      "cell_type": "code",
      "execution_count": 12,
      "metadata": {},
      "outputs": [],
      "source": [
        "def read_image_and_normalize(img_path: str) -> torch.Tensor:\n",
        "    img = BirdsDataset.preprocess_image(np.asarray(open_image(img_path)))\n",
        "    return BirdsDataset.make_data_transformer()(image=img)[\"image\"]\n",
        "\n",
        "def resize_and_normalize_mask(gt_mask: np.ndarray) -> np.ndarray:\n",
        "    gt_mask = BirdsDataset.preprocess_mask(gt_mask)\n",
        "    mask = BirdsDataset.make_data_transformer()(image=gt_mask, mask=gt_mask)[\"mask\"].numpy()\n",
        "    assert tuple(mask.shape) == (IMG_HEIGHT, IMG_WIDTH)\n",
        "    assert np.all((mask == 0) ^ (mask == 1))\n",
        "    return mask\n",
        "\n",
        "def predict(model, img_path: str) -> np.ndarray:\n",
        "    model.eval()\n",
        "    model_device = next(model.parameters()).device\n",
        "    with torch.no_grad():\n",
        "        x = read_image_and_normalize(img_path).unsqueeze(0).to(model_device)\n",
        "        assert np.all(x.cpu().numpy() <= 1)\n",
        "        logits_pred = model(x).detach().squeeze(0)\n",
        "        assert tuple(logits_pred.shape) == (2, IMG_HEIGHT, IMG_WIDTH)\n",
        "        class_pred = logits_pred.argmax(0)\n",
        "        assert tuple(class_pred.shape) == (IMG_HEIGHT, IMG_WIDTH)\n",
        "        return class_pred.cpu().numpy()\n",
        "\n",
        "def get_model(path) -> Unet:\n",
        "    model = Unet()\n",
        "    model.load_state_dict(torch.load(path, weights_only=False))\n",
        "    model.eval()\n",
        "    return model"
      ]
    },
    {
      "cell_type": "code",
      "execution_count": 13,
      "metadata": {
        "id": "d_ha44iifROE"
      },
      "outputs": [],
      "source": [
        "def train_segmentation_model(data_path):\n",
        "    # assert data_path == \"data/\"\n",
        "    BATCH_SIZE = 8\n",
        "    N_EPOCH = 15\n",
        "    DEVICE = torch.device('cuda' if torch.cuda.is_available() else 'cpu')\n",
        "\n",
        "    train_dataset = BirdsDataset(data_path + 'train')\n",
        "    val_dataset = BirdsDataset(data_path + 'val')\n",
        "    train_dataloader = DataLoader(train_dataset, batch_size=BATCH_SIZE, shuffle=True)\n",
        "    val_dataloader = DataLoader(val_dataset, batch_size=BATCH_SIZE, shuffle=False)\n",
        "\n",
        "    model = Unet().to(DEVICE)\n",
        "    optimizer = torch.optim.Adam(params=model.mutable_parameters(), lr=0.0007)\n",
        "    criterion = nn.CrossEntropyLoss()\n",
        "    losses_train, losses_val, ious_train, ious_val = [], [], [], []\n",
        "\n",
        "    for epoch in (epochs_bar := tqdm(range(N_EPOCH))):\n",
        "        epochs_bar.set_description(f\"Epoch #{epoch}...\\n\", refresh=True)\n",
        "\n",
        "        model.train()\n",
        "        losses_over_batches = []\n",
        "        ious_over_batches = []\n",
        "        for inputs, masks in tqdm(train_dataloader):\n",
        "            masks = masks.to(DEVICE, non_blocking=True)\n",
        "            inputs = inputs.to(DEVICE)\n",
        "\n",
        "            optimizer.zero_grad()\n",
        "            masks_pred = model(inputs)\n",
        "            loss = criterion(masks_pred, masks)\n",
        "\n",
        "            loss.backward()\n",
        "            optimizer.step()\n",
        "\n",
        "            losses_over_batches.append(loss.detach().cpu().item())\n",
        "            ious_over_batches.append(get_iou(masks == 1, masks_pred.detach().argmax(1) == 1).cpu().item())\n",
        "\n",
        "\n",
        "        losses_train.append(np.mean(losses_over_batches))\n",
        "        ious_train.append(np.mean(ious_over_batches))\n",
        "\n",
        "        model.eval()\n",
        "        losses_over_batches = []\n",
        "        ious_over_batches = []\n",
        "        with torch.no_grad():\n",
        "            for inputs, masks in tqdm(val_dataloader):\n",
        "                masks = masks.to(DEVICE, non_blocking=True)\n",
        "                inputs = inputs.to(DEVICE)\n",
        "\n",
        "                masks_pred = model(inputs).detach()\n",
        "                loss = criterion(masks_pred, masks)\n",
        "\n",
        "                losses_over_batches.append(loss.cpu().item())\n",
        "                ious_over_batches.append(get_iou(masks == 1, masks_pred.argmax(1) == 1).cpu().item())\n",
        "\n",
        "        losses_val.append(np.mean(losses_over_batches))\n",
        "        ious_val.append(np.mean(ious_over_batches))\n",
        "\n",
        "        torch.save(model.state_dict(), f'model_{epoch}.pth')\n",
        "\n",
        "        print(f\"Epoch: {epoch}, train loss: {losses_train[-1]}, val loss: {losses_val[-1]}, train iou: {ious_train[-1]}, val iou: {ious_val[-1]}\")"
      ]
    },
    {
      "cell_type": "code",
      "execution_count": null,
      "metadata": {
        "colab": {
          "base_uri": "https://localhost:8080/",
          "height": 1000
        },
        "id": "LzZS9Z2jfROF",
        "outputId": "b6521841-0cfb-4965-d933-c538e0c8f8d0"
      },
      "outputs": [
        {
          "name": "stderr",
          "output_type": "stream",
          "text": [
            "Epoch #0...:   0%|          | 0/15 [00:00<?, ?it/s]"
          ]
        }
      ],
      "source": [
        "set_random_seed(0xdeadbeef)\n",
        "train_segmentation_model('data/')"
      ]
    },
    {
      "cell_type": "markdown",
      "metadata": {
        "id": "MWKD09whySKA"
      },
      "source": [
        "You can also experiment with models and write a small report about results. If the report will be meaningful, you will receive an extra point."
      ]
    },
    {
      "cell_type": "markdown",
      "metadata": {
        "id": "zCHacSHutHo4"
      },
      "source": [
        "### Testing (8 points)\n",
        "Your model will be tested on the new data, similar to validation, so use techniques to prevent overfitting the model.\n",
        "\n",
        "* IoU > 0.85 — 8 points\n",
        "* IoU > 0.80 — 7 points\n",
        "* IoU > 0.75 — 6 points\n",
        "* IoU > 0.70 — 5 points\n",
        "* IoU > 0.60 — 4 points\n",
        "* IoU > 0.50 — 3 points\n",
        "* IoU > 0.40 — 2 points\n",
        "* IoU > 0.30 — 1 points"
      ]
    },
    {
      "cell_type": "code",
      "execution_count": 139,
      "metadata": {
        "id": "WbT1sIHPLzVD"
      },
      "outputs": [],
      "source": [
        "def read_image_and_normalize(img_path: str) -> torch.Tensor:\n",
        "    img = BirdsDataset.preprocess_image(np.asarray(open_image(img_path)))\n",
        "    return BirdsDataset.make_data_transformer()(image=img)[\"image\"]\n",
        "\n",
        "def resize_and_normalize_mask(gt_mask: np.ndarray) -> np.ndarray:\n",
        "    gt_mask = BirdsDataset.preprocess_mask(gt_mask)\n",
        "    mask = BirdsDataset.make_data_transformer()(image=gt_mask, mask=gt_mask)[\"mask\"].numpy()\n",
        "    assert tuple(mask.shape) == (IMG_HEIGHT, IMG_WIDTH)\n",
        "    assert np.all((mask == 0) ^ (mask == 1))\n",
        "    return mask\n",
        "\n",
        "def predict(model, img_path: str) -> np.ndarray:\n",
        "    model.eval()\n",
        "    model_device = next(model.parameters()).device\n",
        "    with torch.no_grad():\n",
        "        x = read_image_and_normalize(img_path).unsqueeze(0).to(model_device)\n",
        "        assert np.all(x.cpu().numpy() <= 1)\n",
        "        logits_pred = model(x).detach().squeeze(0)\n",
        "        assert tuple(logits_pred.shape) == (2, IMG_HEIGHT, IMG_WIDTH)\n",
        "        class_pred = logits_pred.argmax(0)\n",
        "        assert tuple(class_pred.shape) == (IMG_HEIGHT, IMG_WIDTH)\n",
        "        return class_pred.cpu().numpy()\n",
        "\n",
        "def get_model(path) -> Unet:\n",
        "    model = Unet()\n",
        "    model.load_state_dict(torch.load(path, weights_only=False))\n",
        "    model.eval()\n",
        "    return model"
      ]
    },
    {
      "cell_type": "code",
      "execution_count": 99,
      "metadata": {
        "id": "Rx4ZwRPnT55y"
      },
      "outputs": [],
      "source": [
        "model = get_model('model_14.pth').to('cuda')"
      ]
    },
    {
      "cell_type": "code",
      "execution_count": 143,
      "metadata": {
        "colab": {
          "base_uri": "https://localhost:8080/",
          "height": 1000
        },
        "id": "yV9zadusfROF",
        "outputId": "7e61d3ba-3ed7-401e-c1e1-d13df89537ca"
      },
      "outputs": [
        {
          "name": "stderr",
          "output_type": "stream",
          "text": [
            "\r  0%|          | 0/200 [00:00<?, ?it/s]"
          ]
        },
        {
          "name": "stdout",
          "output_type": "stream",
          "text": [
            "\n",
            "\n",
            "0\n",
            "3983\n",
            "0\n",
            "5201\n",
            "0\n",
            "2863\n",
            "0\n",
            "5499\n",
            "0\n",
            "3188\n",
            "0\n",
            "9671\n",
            "0\n",
            "4078\n"
          ]
        },
        {
          "name": "stderr",
          "output_type": "stream",
          "text": [
            "\r  0%|          | 1/200 [00:00<02:26,  1.35it/s]"
          ]
        },
        {
          "name": "stdout",
          "output_type": "stream",
          "text": [
            "0\n",
            "5695\n",
            "\n",
            "\n",
            "0\n",
            "1155\n",
            "0\n",
            "6583\n",
            "0\n",
            "10002\n",
            "0\n",
            "22901\n",
            "0\n",
            "12993\n",
            "0\n",
            "11250\n"
          ]
        },
        {
          "name": "stderr",
          "output_type": "stream",
          "text": [
            "\r  1%|          | 2/200 [00:01<01:57,  1.69it/s]"
          ]
        },
        {
          "name": "stdout",
          "output_type": "stream",
          "text": [
            "0\n",
            "1410\n",
            "\n",
            "\n",
            "0\n",
            "5427\n",
            "0\n",
            "6261\n",
            "0\n",
            "3935\n"
          ]
        },
        {
          "name": "stderr",
          "output_type": "stream",
          "text": [
            "\r  2%|▏         | 3/200 [00:01<01:38,  2.00it/s]"
          ]
        },
        {
          "name": "stdout",
          "output_type": "stream",
          "text": [
            "0\n",
            "3601\n",
            "0\n",
            "6706\n",
            "0\n",
            "8772\n",
            "0\n",
            "6464\n",
            "\n",
            "\n",
            "0\n",
            "5796\n",
            "0\n",
            "187\n",
            "0\n",
            "2435\n",
            "0\n",
            "6575\n"
          ]
        },
        {
          "name": "stderr",
          "output_type": "stream",
          "text": [
            "\r  2%|▏         | 4/200 [00:02<01:33,  2.10it/s]"
          ]
        },
        {
          "name": "stdout",
          "output_type": "stream",
          "text": [
            "0\n",
            "8433\n",
            "0\n",
            "2428\n",
            "0\n",
            "3953\n",
            "\n",
            "\n",
            "0\n",
            "10233\n",
            "0\n",
            "6431\n",
            "0\n",
            "6535\n",
            "0\n",
            "3582\n",
            "0\n",
            "8531\n"
          ]
        },
        {
          "name": "stderr",
          "output_type": "stream",
          "text": [
            "\r  2%|▎         | 5/200 [00:02<01:25,  2.29it/s]"
          ]
        },
        {
          "name": "stdout",
          "output_type": "stream",
          "text": [
            "0\n",
            "1381\n",
            "\n",
            "\n",
            "0\n",
            "23972\n",
            "0\n",
            "5636\n"
          ]
        },
        {
          "name": "stderr",
          "output_type": "stream",
          "text": [
            "\r  3%|▎         | 6/200 [00:02<01:17,  2.49it/s]"
          ]
        },
        {
          "name": "stdout",
          "output_type": "stream",
          "text": [
            "0\n",
            "10475\n",
            "0\n",
            "7449\n",
            "0\n",
            "13259\n",
            "\n",
            "\n",
            "0\n",
            "26786\n",
            "0\n",
            "5129\n",
            "0\n",
            "5801\n",
            "0\n",
            "6356\n",
            "0\n",
            "3267\n"
          ]
        },
        {
          "name": "stderr",
          "output_type": "stream",
          "text": [
            "\r  4%|▎         | 7/200 [00:03<01:14,  2.61it/s]"
          ]
        },
        {
          "name": "stdout",
          "output_type": "stream",
          "text": [
            "0\n",
            "8398\n",
            "\n",
            "\n",
            "0\n",
            "13209\n",
            "0\n",
            "1616\n",
            "0\n",
            "5076\n"
          ]
        },
        {
          "name": "stderr",
          "output_type": "stream",
          "text": [
            "\r  4%|▍         | 8/200 [00:03<01:08,  2.81it/s]"
          ]
        },
        {
          "name": "stdout",
          "output_type": "stream",
          "text": [
            "0\n",
            "10885\n",
            "0\n",
            "13655\n",
            "\n",
            "\n",
            "0\n",
            "9857\n",
            "0\n",
            "2406\n",
            "0\n",
            "7049\n",
            "0\n",
            "5539\n",
            "0\n",
            "8283\n"
          ]
        },
        {
          "name": "stderr",
          "output_type": "stream",
          "text": [
            "\r  4%|▍         | 9/200 [00:03<01:15,  2.52it/s]"
          ]
        },
        {
          "name": "stdout",
          "output_type": "stream",
          "text": [
            "0\n",
            "22499\n",
            "0\n",
            "4767\n",
            "0\n",
            "5703\n",
            "0\n",
            "6091\n",
            "\n",
            "\n",
            "0\n",
            "4279\n",
            "0\n",
            "22073\n",
            "0\n",
            "9970\n",
            "0\n",
            "4239\n",
            "0\n",
            "3941\n",
            "0\n",
            "3794\n"
          ]
        },
        {
          "name": "stderr",
          "output_type": "stream",
          "text": [
            "\r  4%|▍         | 9/200 [00:04<01:29,  2.13it/s]\n"
          ]
        },
        {
          "ename": "KeyboardInterrupt",
          "evalue": "",
          "output_type": "error",
          "traceback": [
            "\u001b[0;31m---------------------------------------------------------------------------\u001b[0m",
            "\u001b[0;31mKeyboardInterrupt\u001b[0m                         Traceback (most recent call last)",
            "\u001b[0;32m<ipython-input-143-bb99cd9195de>\u001b[0m in \u001b[0;36m<cell line: 4>\u001b[0;34m()\u001b[0m\n\u001b[1;32m      7\u001b[0m         \u001b[0mimg_path\u001b[0m\u001b[0;34m=\u001b[0m\u001b[0mos\u001b[0m\u001b[0;34m.\u001b[0m\u001b[0mpath\u001b[0m\u001b[0;34m.\u001b[0m\u001b[0mjoin\u001b[0m\u001b[0;34m(\u001b[0m\u001b[0mtest_dir\u001b[0m\u001b[0;34m,\u001b[0m \u001b[0;34m'images'\u001b[0m\u001b[0;34m,\u001b[0m \u001b[0mclass_name\u001b[0m\u001b[0;34m,\u001b[0m \u001b[0mimg_name\u001b[0m\u001b[0;34m)\u001b[0m\u001b[0;34m\u001b[0m\u001b[0;34m\u001b[0m\u001b[0m\n\u001b[1;32m      8\u001b[0m         \u001b[0mt_start\u001b[0m \u001b[0;34m=\u001b[0m \u001b[0mtime\u001b[0m\u001b[0;34m(\u001b[0m\u001b[0;34m)\u001b[0m\u001b[0;34m\u001b[0m\u001b[0;34m\u001b[0m\u001b[0m\n\u001b[0;32m----> 9\u001b[0;31m         \u001b[0mpred\u001b[0m \u001b[0;34m=\u001b[0m \u001b[0mpredict\u001b[0m\u001b[0;34m(\u001b[0m\u001b[0mmodel\u001b[0m\u001b[0;34m,\u001b[0m \u001b[0mimg_path\u001b[0m\u001b[0;34m)\u001b[0m\u001b[0;34m\u001b[0m\u001b[0;34m\u001b[0m\u001b[0m\n\u001b[0m\u001b[1;32m     10\u001b[0m         \u001b[0mtimes\u001b[0m\u001b[0;34m.\u001b[0m\u001b[0mappend\u001b[0m\u001b[0;34m(\u001b[0m\u001b[0mtime\u001b[0m\u001b[0;34m(\u001b[0m\u001b[0;34m)\u001b[0m \u001b[0;34m-\u001b[0m \u001b[0mt_start\u001b[0m\u001b[0;34m)\u001b[0m\u001b[0;34m\u001b[0m\u001b[0;34m\u001b[0m\u001b[0m\n\u001b[1;32m     11\u001b[0m \u001b[0;34m\u001b[0m\u001b[0m\n",
            "\u001b[0;32m<ipython-input-139-cc18c2dae463>\u001b[0m in \u001b[0;36mpredict\u001b[0;34m(model, img_path)\u001b[0m\n\u001b[1;32m     20\u001b[0m         \u001b[0mclass_pred\u001b[0m \u001b[0;34m=\u001b[0m \u001b[0mlogits_pred\u001b[0m\u001b[0;34m.\u001b[0m\u001b[0margmax\u001b[0m\u001b[0;34m(\u001b[0m\u001b[0;36m0\u001b[0m\u001b[0;34m)\u001b[0m\u001b[0;34m\u001b[0m\u001b[0;34m\u001b[0m\u001b[0m\n\u001b[1;32m     21\u001b[0m         \u001b[0;32massert\u001b[0m \u001b[0mtuple\u001b[0m\u001b[0;34m(\u001b[0m\u001b[0mclass_pred\u001b[0m\u001b[0;34m.\u001b[0m\u001b[0mshape\u001b[0m\u001b[0;34m)\u001b[0m \u001b[0;34m==\u001b[0m \u001b[0;34m(\u001b[0m\u001b[0mIMG_HEIGHT\u001b[0m\u001b[0;34m,\u001b[0m \u001b[0mIMG_WIDTH\u001b[0m\u001b[0;34m)\u001b[0m\u001b[0;34m\u001b[0m\u001b[0;34m\u001b[0m\u001b[0m\n\u001b[0;32m---> 22\u001b[0;31m         \u001b[0;32mreturn\u001b[0m \u001b[0mclass_pred\u001b[0m\u001b[0;34m.\u001b[0m\u001b[0mcpu\u001b[0m\u001b[0;34m(\u001b[0m\u001b[0;34m)\u001b[0m\u001b[0;34m.\u001b[0m\u001b[0mnumpy\u001b[0m\u001b[0;34m(\u001b[0m\u001b[0;34m)\u001b[0m\u001b[0;34m\u001b[0m\u001b[0;34m\u001b[0m\u001b[0m\n\u001b[0m\u001b[1;32m     23\u001b[0m \u001b[0;34m\u001b[0m\u001b[0m\n\u001b[1;32m     24\u001b[0m \u001b[0;32mdef\u001b[0m \u001b[0mget_model\u001b[0m\u001b[0;34m(\u001b[0m\u001b[0mpath\u001b[0m\u001b[0;34m)\u001b[0m \u001b[0;34m->\u001b[0m \u001b[0mUnet\u001b[0m\u001b[0;34m:\u001b[0m\u001b[0;34m\u001b[0m\u001b[0;34m\u001b[0m\u001b[0m\n",
            "\u001b[0;31mKeyboardInterrupt\u001b[0m: "
          ]
        }
      ],
      "source": [
        "ious, times = [], []\n",
        "test_dir = 'data/val/'\n",
        "\n",
        "for class_name in tqdm(sorted(os.listdir(os.path.join(test_dir, 'images')))):\n",
        "    print('\\n')\n",
        "    for img_name in sorted(os.listdir(os.path.join(test_dir, 'images', class_name))):\n",
        "        img_path=os.path.join(test_dir, 'images', class_name, img_name)\n",
        "        t_start = time()\n",
        "        pred = predict(model, img_path)\n",
        "        times.append(time() - t_start)\n",
        "\n",
        "        gt_name = img_name.replace('jpg', 'png')\n",
        "        gt = np.asarray(Image.open(os.path.join(test_dir, 'gt', class_name, gt_name)), dtype = np.uint8)\n",
        "        if len(gt.shape) > 2:\n",
        "            gt = gt[:, :, 0]\n",
        "\n",
        "        assert tuple(pred.shape) == (IMG_HEIGHT, IMG_WIDTH)\n",
        "        assert np.all((pred == 0) ^ (pred == 1))\n",
        "        print(pred.sum())\n",
        "        gt = resize_and_normalize_mask(gt)\n",
        "        print(gt.sum())\n",
        "        iou = get_iou(gt == 1, pred > 0.5)\n",
        "        ious.append(iou)\n",
        "\n",
        "np.mean(ious), np.mean(times)"
      ]
    },
    {
      "cell_type": "markdown",
      "metadata": {
        "id": "47KgrqdpvKWS"
      },
      "source": [
        "### Compression (1 point)"
      ]
    },
    {
      "cell_type": "markdown",
      "metadata": {
        "id": "4kJiLB__vTC3"
      },
      "source": [
        "Try to speed up the model in any way without losing more than 1% in iou score.\n",
        "For example [torch2trt](https://github.com/NVIDIA-AI-IOT/torch2trt)"
      ]
    },
    {
      "cell_type": "code",
      "execution_count": null,
      "metadata": {
        "id": "UQyNHbt0vtMu"
      },
      "outputs": [],
      "source": [
        "def get_fast_model():\n",
        "    # YOUR CODE HERE\n",
        "    return model"
      ]
    },
    {
      "cell_type": "code",
      "execution_count": null,
      "metadata": {
        "id": "f2DedST0v6aF"
      },
      "outputs": [],
      "source": [
        "fast_model = get_fast_model().to('cuda')"
      ]
    },
    {
      "cell_type": "code",
      "execution_count": null,
      "metadata": {
        "id": "ryWUekS2vlv8"
      },
      "outputs": [],
      "source": [
        "ious, times = [], []\n",
        "test_dir = 'data/val/'\n",
        "\n",
        "for class_name in tqdm(sorted(os.listdir(os.path.join(test_dir, 'images')))):\n",
        "    for img_name in sorted(os.listdir(os.path.join(test_dir, 'images', class_name))):\n",
        "\n",
        "        t_start = time()\n",
        "        pred = predict(fast_model, os.path.join(test_dir, 'images', class_name, img_name))\n",
        "        times.append(time() - t_start)\n",
        "\n",
        "        gt_name = img_name.replace('jpg', 'png')\n",
        "        gt = np.asarray(Image.open(os.path.join(test_dir, 'gt', class_name, gt_name)), dtype = np.uint8)\n",
        "        if len(gt.shape) > 2:\n",
        "            gt = gt[:, :, 0]\n",
        "\n",
        "        iou = get_iou(gt==255, pred>0.5)\n",
        "        ious.append(iou)\n",
        "\n",
        "np.mean(ious), np.mean(times)"
      ]
    },
    {
      "cell_type": "markdown",
      "metadata": {
        "id": "QCdMgBoOwXAb"
      },
      "source": [
        "**Bonus:** For the best iou score on test(without compression) in group you will get 1.5, 1, 0.5 extra points(for 1st, 2nd, 3rd places)."
      ]
    },
    {
      "cell_type": "code",
      "execution_count": null,
      "metadata": {
        "id": "daanikNkwo5t"
      },
      "outputs": [],
      "source": []
    }
  ],
  "metadata": {
    "accelerator": "GPU",
    "colab": {
      "gpuType": "T4",
      "provenance": []
    },
    "kernelspec": {
      "display_name": "base",
      "language": "python",
      "name": "python3"
    },
    "language_info": {
      "codemirror_mode": {
        "name": "ipython",
        "version": 3
      },
      "file_extension": ".py",
      "mimetype": "text/x-python",
      "name": "python",
      "nbconvert_exporter": "python",
      "pygments_lexer": "ipython3",
      "version": "3.12.4"
    }
  },
  "nbformat": 4,
  "nbformat_minor": 0
}
